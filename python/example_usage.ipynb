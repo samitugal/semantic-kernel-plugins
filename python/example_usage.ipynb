{
 "cells": [
  {
   "cell_type": "code",
   "execution_count": 7,
   "metadata": {},
   "outputs": [
    {
     "data": {
      "text/plain": [
       "True"
      ]
     },
     "execution_count": 7,
     "metadata": {},
     "output_type": "execute_result"
    }
   ],
   "source": [
    "import asyncio\n",
    "import logging\n",
    "import os\n",
    "\n",
    "from dotenv import load_dotenv\n",
    "from semantic_kernel import Kernel\n",
    "from semantic_kernel.connectors.ai.bedrock import BedrockChatCompletion\n",
    "from semantic_kernel.connectors.ai.bedrock.bedrock_prompt_execution_settings import \\\n",
    "    BedrockChatPromptExecutionSettings\n",
    "from semantic_kernel.connectors.ai.function_choice_behavior import \\\n",
    "    FunctionChoiceBehavior\n",
    "from semantic_kernel.contents.chat_history import ChatHistory\n",
    "from semantic_kernel.utils.logging import setup_logging\n",
    "\n",
    "from semantic_kernel_plugins.plugins.python.python_code_generator import \\\n",
    "    PythonCodeGeneratorPlugin\n",
    "from semantic_kernel_plugins.plugins.web.tavily_web_search import \\\n",
    "    TavilySearchPlugin\n",
    "\n",
    "load_dotenv()\n"
   ]
  },
  {
   "cell_type": "code",
   "execution_count": 8,
   "metadata": {},
   "outputs": [],
   "source": [
    "async def main():\n",
    "    kernel = Kernel()\n",
    "\n",
    "    chat_completion = BedrockChatCompletion(\n",
    "        model_id=os.getenv(\"ANTHROPIC_MODEL_ID\"),\n",
    "    )\n",
    "    kernel.add_service(chat_completion)\n",
    "\n",
    "    setup_logging()\n",
    "    logging.getLogger(\"kernel\").setLevel(logging.INFO)\n",
    "\n",
    "    execution_settings = BedrockChatPromptExecutionSettings(\n",
    "        max_tokens=4096,\n",
    "        temperature=0.5,\n",
    "    )\n",
    "    execution_settings.function_choice_behavior = FunctionChoiceBehavior.Auto()\n",
    "\n",
    "    ## Ready to use plugins - Tavily Web Search\n",
    "    kernel.add_plugin(\n",
    "        TavilySearchPlugin(os.getenv(\"TAVILY_API_KEY\")),\n",
    "        plugin_name=\"TavilyWebSearch\",\n",
    "    )\n",
    "\n",
    "    history = ChatHistory()\n",
    "\n",
    "    userInput = \"What is going on in Turkey?\"\n",
    "\n",
    "    history.add_user_message(userInput)\n",
    "    result = await chat_completion.get_chat_message_content(\n",
    "        chat_history=history,\n",
    "        settings=execution_settings,\n",
    "        kernel=kernel,\n",
    "    )\n",
    "    print(\"\\033[1m\\033[34mAssistant > \\033[0m\" + str(result))\n",
    "    history.add_message(result)\n"
   ]
  },
  {
   "cell_type": "code",
   "execution_count": 9,
   "metadata": {},
   "outputs": [
    {
     "name": "stdout",
     "output_type": "stream",
     "text": [
      "\u001b[1m\u001b[34mAssistant > \u001b[0m# Current Situation in Turkey\n",
      "\n",
      "Based on the latest information, Turkey is experiencing significant political and economic challenges. Here's an overview of what's happening:\n",
      "\n",
      "## Political Turmoil\n",
      "\n",
      "1. **Widespread Protests**: Turkey is experiencing its largest protests in more than a decade, triggered by the arrest of Istanbul Mayor Ekrem Imamoglu on March 19, 2025. Imamoglu is considered the biggest challenger to President Recep Tayyip Erdogan's 22-year rule.\n",
      "\n",
      "2. **Government Crackdown**: Authorities have detained over 1,400 people during the nationwide protests. The demonstrations have been largely peaceful, with protesters demanding Imamoglu's release and an end to democratic backsliding.\n",
      "\n",
      "3. **Political Opposition**: President Erdogan has accused the opposition of \"sinking the economy\" during these protests, escalating political tensions.\n",
      "\n",
      "## Economic Instability\n",
      "\n",
      "1. **Currency Volatility**: The Turkish lira is experiencing significant volatility, forcing the government to spend record levels of foreign currency reserves to stabilize it.\n",
      "\n",
      "2. **Market Reaction**: The country's stock market plummeted by 16.3% in the three days following Imamoglu's detention, though it has shown some recovery since.\n",
      "\n",
      "3. **Economic Recovery at Risk**: Turkey had been making progress on economic stabilization with inflation falling steadily and confidence in the banking system rising. However, the current political crisis threatens to derail these gains.\n",
      "\n",
      "4. **Challenging Outlook**: Analysts predict a prolonged period of volatility for the Turkish lira and warn that the economy is unlikely to escape the consequences of the political turmoil. Inflation is expected to remain around 30% by the end of the year.\n",
      "\n",
      "## International Implications\n",
      "\n",
      "The situation is being closely watched internationally, as Turkey plays a significant role in regional politics, particularly regarding Syria and Middle Eastern affairs. The political instability could affect Turkey's position and influence in the region.\n",
      "\n",
      "Analysts describe the protests as \"the most significant and widespread public reaction in over a decade,\" making the trajectory of events difficult to predict, but many warn that President Erdogan's political agenda has inflicted serious damage on Turkey's economic outlook.\n"
     ]
    }
   ],
   "source": [
    "if __name__ == \"__main__\":\n",
    "    try:\n",
    "        import nest_asyncio\n",
    "        nest_asyncio.apply()\n",
    "    except ImportError:\n",
    "        print(\"Please install nest_asyncio: pip install nest_asyncio\")\n",
    "        \n",
    "    asyncio.run(main())\n"
   ]
  }
 ],
 "metadata": {
  "language_info": {
   "name": "python"
  }
 },
 "nbformat": 4,
 "nbformat_minor": 2
}
